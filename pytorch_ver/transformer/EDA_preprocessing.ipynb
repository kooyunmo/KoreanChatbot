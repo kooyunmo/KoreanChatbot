{
 "cells": [
  {
   "cell_type": "code",
   "execution_count": 1,
   "metadata": {},
   "outputs": [],
   "source": [
    "from konlpy.tag import Okt\n",
    "import pandas as pd\n",
    "import torch\n",
    "import torch.nn as nn\n",
    "import enum\n",
    "import os\n",
    "import re\n",
    "from sklearn.model_selection import train_test_split\n",
    "import numpy as np\n",
    "\n",
    "from tqdm import tqdm\n",
    "\n",
    "FILTERS = \"([~.,!?\\\"':;)(])\"\n",
    "PAD = \"<PAD>\"\n",
    "STD = \"<SOS>\"\n",
    "END = \"<END>\"\n",
    "UNK = \"<UNK>\"\n",
    "\n",
    "PAD_INDEX = 0\n",
    "STD_INDEX = 1\n",
    "END_INDEX = 2\n",
    "UNK_INDEX = 3\n",
    "\n",
    "MARKER = [PAD, STD, END, UNK]\n",
    "CHANGE_FILTER = re.compile(FILTERS)\n",
    "\n",
    "path = '../../data_in/ChatBotData.csv'\n",
    "\n",
    "def load_data():\n",
    "    '''\n",
    "    1. Read Korean chatbot data(Q-A pairs) from the path, and put them into pd.DataFrame.\n",
    "    2. split data into training set and validation set, and return them.\n",
    "    '''\n",
    "    data_df = pd.read_csv(path, header=0)\n",
    "    question, answer = list(data_df['Q'], list(data_df['A']))\n",
    "    train_input, test_input, train_label, test_label = train_test_split(question, answer, test_size=0.33, random_state=42)\n",
    "    \n",
    "    return train_input, train_label, test_input, test_label\n",
    "\n",
    "\n",
    "def prepro_like_morphlized(data):\n",
    "    '''\n",
    "    @params:\n",
    "        - data: \n",
    "    '''\n",
    "    \n",
    "    "
   ]
  },
  {
   "cell_type": "code",
   "execution_count": 9,
   "metadata": {},
   "outputs": [
    {
     "name": "stderr",
     "output_type": "stream",
     "text": [
      "100%|██████████| 3/3 [00:00<00:00, 45.03it/s]\n"
     ]
    }
   ],
   "source": [
    "morph_analyzer = Okt()\n",
    "\n",
    "result_data = list()\n",
    "\n",
    "data = list()\n",
    "data.append('안녕 반가워')\n",
    "data.append('심심하다 나랑 놀아줄 사람')\n",
    "data.append('놀면 안돼 공부해야지')\n",
    "\n",
    "for seq in tqdm(data):\n",
    "    morph_seq = \" \".join(morph_analyzer.morphs(seq))\n",
    "    result_data.append(morph_seq)"
   ]
  },
  {
   "cell_type": "code",
   "execution_count": 10,
   "metadata": {},
   "outputs": [
    {
     "data": {
      "text/plain": [
       "['안녕 반가워', '심심하다 나 랑 놀아줄 사람', '놀면 안 돼 공부 해야지']"
      ]
     },
     "execution_count": 10,
     "metadata": {},
     "output_type": "execute_result"
    }
   ],
   "source": [
    "result_data"
   ]
  },
  {
   "cell_type": "code",
   "execution_count": null,
   "metadata": {},
   "outputs": [],
   "source": [
    "Matrix = [[0 for x in range(505840)] for y in range(306222)]"
   ]
  },
  {
   "cell_type": "code",
   "execution_count": null,
   "metadata": {},
   "outputs": [],
   "source": [
    "for i in range(306222):\n",
    "    for j in range(505840):\n",
    "        Matrix[i][j] = 0"
   ]
  }
 ],
 "metadata": {
  "kernelspec": {
   "display_name": "Python 3",
   "language": "python",
   "name": "python3"
  },
  "language_info": {
   "codemirror_mode": {
    "name": "ipython",
    "version": 3
   },
   "file_extension": ".py",
   "mimetype": "text/x-python",
   "name": "python",
   "nbconvert_exporter": "python",
   "pygments_lexer": "ipython3",
   "version": "3.7.1"
  }
 },
 "nbformat": 4,
 "nbformat_minor": 2
}
