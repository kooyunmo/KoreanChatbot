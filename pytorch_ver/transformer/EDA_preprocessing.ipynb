{
 "cells": [
  {
   "cell_type": "code",
   "execution_count": 65,
   "metadata": {},
   "outputs": [],
   "source": [
    "from konlpy.tag import Okt\n",
    "import pandas as pd\n",
    "import torch\n",
    "import torch.nn as nn\n",
    "import enum\n",
    "import os\n",
    "import re\n",
    "from sklearn.model_selection import train_test_split\n",
    "import numpy as np\n",
    "\n",
    "from tqdm import tqdm\n",
    "\n",
    "################## global variables ##################\n",
    "\n",
    "FILTERS = \"([~.,!?\\\"':;)(])\"\n",
    "PAD = \"<PAD>\"\n",
    "STD = \"<SOS>\"\n",
    "END = \"<END>\"\n",
    "UNK = \"<UNK>\"\n",
    "\n",
    "PAD_INDEX = 0\n",
    "STD_INDEX = 1\n",
    "END_INDEX = 2\n",
    "UNK_INDEX = 3\n",
    "\n",
    "MARKER = [PAD, STD, END, UNK]\n",
    "CHANGE_FILTER = re.compile(FILTERS)\n",
    "\n",
    "path = '../../data_in/ChatBotData.csv'\n",
    "vocab_path = '../../data_out/vocab.voc'\n",
    "data_path = '../../data_in/ChatBotData.csv'\n",
    "max_sequence_len = 25\n",
    "\n",
    "############### end of global variables ##############\n",
    "\n",
    "\n",
    "def load_data():\n",
    "    '''\n",
    "    1. Read Korean chatbot data(Q-A pairs) from the path, and put them into pd.DataFrame.\n",
    "    2. split data into training set and validation set, and return them.\n",
    "    \n",
    "    @return\n",
    "        - train_input: training question\n",
    "        - train_label: training answer\n",
    "        - test_input: test question\n",
    "        - test_label: test answer\n",
    "    '''\n",
    "    data_df = pd.read_csv(path, header=0)\n",
    "    question, answer = list(data_df['Q']), list(data_df['A'])\n",
    "    train_input, test_input, train_label, test_label = train_test_split(question, answer, test_size=0.33, random_state=42)\n",
    "    \n",
    "    return train_input, train_label, test_input, test_label\n",
    "\n",
    "\n",
    "# 사용 안 할 예정\n",
    "def prepro_like_morphlized(data):\n",
    "    '''\n",
    "    @params:\n",
    "        - data:\n",
    "    '''\n",
    "    # 형태소 분석 모듈 객체를 생성\n",
    "    morph_analyzer = Okt()\n",
    "\n",
    "    # 형태소 토크나이즈 결과 문장을 받을 리스트를 생성합니다.\n",
    "    result_data = list()\n",
    "    # 데이터에 있는 매 문장에 대해 토크나이즈를 할 수 있도록 반복문을 선언합니다.\n",
    "    for seq in tqdm(data):\n",
    "        # Okt.morphs 함수를 통해 토크나이즈 된 리스트 객체를 받고 다시 공백문자를 기준으로 문자열로 재구성 해줍니다.\n",
    "        morphlized_seq = \" \".join(morph_analyzer.morphs(seq))\n",
    "        result_data.append(morphlized_seq)\n",
    "\n",
    "    return result_data\n",
    "    \n",
    "    \n",
    "def enc_processing(input_data, dictionary):\n",
    "    '''\n",
    "    @params\n",
    "        - input_data: 인덱싱할 데이터 (train_input 또는 test_input)\n",
    "        - dictionary: key(word)-value(index) pair\n",
    "        \n",
    "    @return\n",
    "    '''\n",
    "    # 인덱스 값들을 가지고 있는 배열이다.(누적된다.)\n",
    "    sequences_input_index = []\n",
    "    # 하나의 인코딩 되는 문장의 길이를 가지고 있다.(누적된다.)\n",
    "    sequences_length = []\n",
    "    \n",
    "    \n",
    "    # 한줄씩 불어온다.\n",
    "    for sequence in input_data:\n",
    "        # FILTERS = \"([~.,!?\\\"':;)(])\"\n",
    "        # 정규화를 사용하여 필터에 들어 있는 값들을 \"\" 으로 치환 한다.\n",
    "        sequence = re.sub(CHANGE_FILTER, \"\", sequence)\n",
    "        \n",
    "        # 하나의 문장을 인코딩 할때 가지고 있기 위한 배열이다.\n",
    "        sequence_index = []\n",
    "\n",
    "        # 문장을 스페이스 단위로 자르고 있다.\n",
    "        for word in sequence.split():\n",
    "            # 잘려진 단어들이 딕셔너리에 존재 하는지 보고 그 값을 가져와 sequence_index에 추가한다.\n",
    "            if dictionary.get(word) is not None:\n",
    "                sequence_index.extend([dictionary[word]])\n",
    "\n",
    "            # 잘려진 단어가 딕셔너리에 존재 하지 않는 경우 이므로 UNK(2)를 넣어 준다.\n",
    "            else:\n",
    "                sequence_index.extend([dictionary[UNK]])\n",
    "\n",
    "        # 문장 제한 길이보다 길어질 경우 뒤에 토큰을 자르고 있다.\n",
    "        if len(sequence_index) > max_sequence_len:\n",
    "            sequence_index = sequence_index[:max_sequence_len]\n",
    "\n",
    "        # 하나의 문장에 길이를 넣어주고 있다.\n",
    "        sequences_length.append(len(sequence_index))\n",
    "\n",
    "        # max_sequence_length보다 문장 길이가 작다면 빈 부분에 PAD(0)를 넣어준다.\n",
    "        sequence_index += (max_sequence_len - len(sequence_index)) * [dictionary[PAD]]\n",
    "\n",
    "        # 인덱스화 되어 있는 값을 sequences_input_index에 넣어 준다.\n",
    "        sequences_input_index.append(sequence_index)\n",
    "\n",
    "    # 인덱스화된 일반 배열을 넘파이 배열로 변경한다.\n",
    "    # 이유는 텐서플로우 dataset에 넣어 주기 위한 사전 작업이다.\n",
    "    # 넘파이 배열에 인덱스화된 배열과 그 길이를 넘겨준다.\n",
    "    return np.asarray(sequences_input_index), sequences_length\n",
    "\n",
    "\n",
    "# helper for load_vacabulary()\n",
    "def data_tokenizer(data):\n",
    "    # 토크나이징 해서 담을 배열 생성\n",
    "    words = []\n",
    "    for sentence in data:\n",
    "        # FILTERS = \"([~.,!?\\\"':;)(])\"\n",
    "        # 위 필터와 같은 값들을 정규화 표현식을 통해서 모두 \"\" 으로 변환 해주는 부분이다.\n",
    "        sentence = re.sub(CHANGE_FILTER, \"\", sentence)\n",
    "        for word in sentence.split():\n",
    "            words.append(word)\n",
    "            \n",
    "    # 토그나이징과 정규표현식을 통해 만들어진 값들을 넘겨 준다.\n",
    "    return [word for word in words if word]\n",
    "\n",
    "# helper for load_vacabulary()\n",
    "def make_vocabulary(vocabulary_list):\n",
    "    # 리스트를 키가 단어이고 값이 인덱스인 딕셔너리를 만든다.\n",
    "    char2idx = {char: idx for idx, char in enumerate(vocabulary_list)}\n",
    "    # 리스트를 키가 인덱스이고 값이 단어인 딕셔너리를 만든다.\n",
    "    idx2char = {idx: char for idx, char in enumerate(vocabulary_list)}\n",
    "    # 두개의 딕셔너리를 넘겨 준다.\n",
    "    return char2idx, idx2char\n",
    "\n",
    "\n",
    "def load_vocabulary():\n",
    "    # 사전을 담을 배열 준비한다.\n",
    "    vocabulary_list = []\n",
    "\n",
    "    # 사전을 구성한 후 파일로 저장 진행한다.\n",
    "    # 그 파일의 존재 유무를 확인한다.\n",
    "    if (not (os.path.exists(vocab_path))):\n",
    "        # 이미 생성된 사전 파일이 존재하지 않으므로 데이터를 가지고 만들어야 한다.\n",
    "        # 데이터가 존재 하면 사전을 만들기 위해서 데이터 파일의 존재 유무를 확인한다.\n",
    "        if (os.path.exists(data_path)):\n",
    "            # 데이터가 존재하면 pandas를 통해서 데이터를 불러오자\n",
    "            data_df = pd.read_csv(data_path, encoding='utf-8')\n",
    "\n",
    "            # 판다스의 데이터 프레임을 통해서 질문과 답에 대한 열을 가져 온다.\n",
    "            question, answer = list(data_df['Q']), list(data_df['A'])\n",
    "\n",
    "            data = []\n",
    "            # 질문과 답변을 extend을 통해서 구조가 없는 배열로 만든다.\n",
    "            data.extend(question)\n",
    "            data.extend(answer)\n",
    "\n",
    "            # 토큰나이져 처리 하는 부분이다.\n",
    "            words = data_tokenizer(data)\n",
    "\n",
    "            # set으로 중복이 제거된 집합을 생성한 후 리스트로 만들어 준다.\n",
    "            words = list(set(words))\n",
    "\n",
    "            # PAD = \"<PADDING>\"\n",
    "            # STD = \"<START>\"\n",
    "            # END = \"<END>\"\n",
    "            # UNK = \"<UNKNWON>\"\n",
    "            words[:0] = MARKER\n",
    "\n",
    "        # 사전 리스트를 사전 파일로 만들어 넣는다.\n",
    "        with open(vocab_path, 'w', encoding='utf-8') as vocabulary_file:\n",
    "            for word in words:\n",
    "                vocabulary_file.write(word + '\\n')\n",
    "\n",
    "\n",
    "    # 사전 파일이 존재하면 여기에서 그 파일을 불러서 배열에 넣어 준다.\n",
    "    with open(vocab_path, 'r', encoding='utf-8') as vocabulary_file:\n",
    "        for line in vocabulary_file:\n",
    "            vocabulary_list.append(line.strip())\n",
    "\n",
    "    # 배열에 내용을 키와 값이 있는 딕셔너리 구조로 만든다.\n",
    "    char2idx, idx2char = make_vocabulary(vocabulary_list)\n",
    "\n",
    "    # 두가지 형태의 키와 값이 있는 형태를 리턴한다.\n",
    "    # (예) 단어: 인덱스 , 인덱스: 단어)\n",
    "    return char2idx, idx2char, len(char2idx)"
   ]
  },
  {
   "cell_type": "code",
   "execution_count": 20,
   "metadata": {},
   "outputs": [
    {
     "name": "stderr",
     "output_type": "stream",
     "text": [
      "100%|██████████| 3/3 [00:00<00:00, 612.52it/s]\n"
     ]
    }
   ],
   "source": [
    "morph_analyzer = Okt()\n",
    "\n",
    "result_data = list()\n",
    "\n",
    "data = list()\n",
    "data.append('안녕 반가워')\n",
    "data.append('심심하다 나랑 놀아줄 사람')\n",
    "data.append('놀면 안돼 공부해야지')\n",
    "\n",
    "for seq in tqdm(data):\n",
    "    morph_seq = \" \".join(morph_analyzer.morphs(seq))\n",
    "    result_data.append(morph_seq)"
   ]
  },
  {
   "cell_type": "code",
   "execution_count": 22,
   "metadata": {},
   "outputs": [
    {
     "name": "stdout",
     "output_type": "stream",
     "text": [
      "['안녕 반가워', '심심하다 나랑 놀아줄 사람', '놀면 안돼 공부해야지']\n",
      "['안녕 반가워', '심심하다 나 랑 놀아줄 사람', '놀면 안 돼 공부 해야지']\n"
     ]
    }
   ],
   "source": [
    "print(data)\n",
    "print(result_data)"
   ]
  },
  {
   "cell_type": "markdown",
   "metadata": {},
   "source": [
    "# make/load vocab"
   ]
  },
  {
   "cell_type": "code",
   "execution_count": 29,
   "metadata": {},
   "outputs": [],
   "source": [
    "# 사전을 담을 배열 준비한다.\n",
    "vocabulary_list = []\n",
    "\n",
    "vocab_path = '../../data_out/vocab.voc'\n",
    "data_path = '../../data_in/ChatBotData.csv'\n",
    "\n",
    "# 사전을 구성한 후 파일로 저장 진행한다.\n",
    "# 그 파일의 존재 유무를 확인한다.\n",
    "if (not (os.path.exists(vocab_path))):\n",
    "    # 이미 생성된 사전 파일이 존재하지 않으므로 데이터를 가지고 만들어야 한다.\n",
    "    # 데이터가 존재 하면 사전을 만들기 위해서 데이터 파일의 존재 유무를 확인한다.\n",
    "    if (os.path.exists(data_path)):\n",
    "        # 데이터가 존재하면 pandas를 통해서 데이터를 불러오자\n",
    "        data_df = pd.read_csv(data_path, encoding='utf-8')\n",
    "\n",
    "        # 판다스의 데이터 프레임을 통해서 질문과 답에 대한 열을 가져 온다.\n",
    "        question, answer = list(data_df['Q']), list(data_df['A'])"
   ]
  },
  {
   "cell_type": "code",
   "execution_count": 30,
   "metadata": {},
   "outputs": [
    {
     "data": {
      "text/plain": [
       "['12시 땡!',\n",
       " '1지망 학교 떨어졌어',\n",
       " '3박4일 놀러가고 싶다',\n",
       " '3박4일 정도 놀러가고 싶다',\n",
       " 'PPL 심하네',\n",
       " 'SD카드 망가졌어',\n",
       " 'SD카드 안돼',\n",
       " 'SNS 맞팔 왜 안하지ㅠㅠ',\n",
       " 'SNS 시간낭비인 거 아는데 매일 하는 중',\n",
       " 'SNS 시간낭비인데 자꾸 보게됨']"
      ]
     },
     "execution_count": 30,
     "metadata": {},
     "output_type": "execute_result"
    }
   ],
   "source": [
    "question[:10]"
   ]
  },
  {
   "cell_type": "code",
   "execution_count": 31,
   "metadata": {},
   "outputs": [],
   "source": [
    "data = []\n",
    "# 질문과 답변을 extend을 통해서 구조가 없는 배열로 만든다.\n",
    "data.extend(question)\n",
    "data.extend(answer)"
   ]
  },
  {
   "cell_type": "code",
   "execution_count": 32,
   "metadata": {},
   "outputs": [
    {
     "name": "stdout",
     "output_type": "stream",
     "text": [
      "11823\n",
      "11823\n",
      "23646\n"
     ]
    }
   ],
   "source": [
    "print(len(question))\n",
    "print(len(answer))\n",
    "print(len(data))"
   ]
  },
  {
   "cell_type": "code",
   "execution_count": 33,
   "metadata": {},
   "outputs": [],
   "source": [
    "words = []\n",
    "for sentence in data:\n",
    "    # FILTERS = \"([~.,!?\\\"':;)(])\"\n",
    "    # 위 필터와 같은 값들을 정규화 표현식을 통해서 모두 \"\" 으로 변환 해주는 부분이다.\n",
    "    sentence = re.sub(CHANGE_FILTER, \"\", sentence)\n",
    "    for word in sentence.split():\n",
    "        words.append(word)"
   ]
  },
  {
   "cell_type": "code",
   "execution_count": 34,
   "metadata": {},
   "outputs": [
    {
     "data": {
      "text/plain": [
       "['12시', '땡', '1지망', '학교', '떨어졌어', '3박4일', '놀러가고', '싶다', '3박4일', '정도']"
      ]
     },
     "execution_count": 34,
     "metadata": {},
     "output_type": "execute_result"
    }
   ],
   "source": [
    "words[:10]"
   ]
  },
  {
   "cell_type": "code",
   "execution_count": 35,
   "metadata": {},
   "outputs": [],
   "source": [
    "words = list(set(words))"
   ]
  },
  {
   "cell_type": "code",
   "execution_count": 38,
   "metadata": {},
   "outputs": [
    {
     "data": {
      "text/plain": [
       "['편지보다',\n",
       " '궁금해서',\n",
       " '고민이야',\n",
       " '들었어',\n",
       " '추억으로',\n",
       " '애매하네요',\n",
       " '있네여아무일',\n",
       " '집착인걸까',\n",
       " '헛산듯',\n",
       " '차였는데']"
      ]
     },
     "execution_count": 38,
     "metadata": {},
     "output_type": "execute_result"
    }
   ],
   "source": [
    "words[:10]"
   ]
  },
  {
   "cell_type": "code",
   "execution_count": 39,
   "metadata": {},
   "outputs": [],
   "source": [
    "# PAD = \"<PADDING>\"\n",
    "# STD = \"<START>\"\n",
    "# END = \"<END>\"\n",
    "# UNK = \"<UNKNWON>\"\n",
    "words[:0] = MARKER"
   ]
  },
  {
   "cell_type": "code",
   "execution_count": 40,
   "metadata": {},
   "outputs": [
    {
     "data": {
      "text/plain": [
       "['<PAD>',\n",
       " '<SOS>',\n",
       " '<END>',\n",
       " '<UNK>',\n",
       " '편지보다',\n",
       " '궁금해서',\n",
       " '고민이야',\n",
       " '들었어',\n",
       " '추억으로',\n",
       " '애매하네요']"
      ]
     },
     "execution_count": 40,
     "metadata": {},
     "output_type": "execute_result"
    }
   ],
   "source": [
    "words[:10]"
   ]
  },
  {
   "cell_type": "code",
   "execution_count": 51,
   "metadata": {},
   "outputs": [],
   "source": [
    "# 사전 리스트를 사전 파일로 만들어 넣는다.\n",
    "with open(vocab_path, 'w', encoding='utf-8') as vocabulary_file:\n",
    "    for word in words:\n",
    "        vocabulary_file.write(word + '\\n')\n",
    "\n",
    "# 사전 파일이 존재하면 여기에서 그 파일을 불러서 배열에 넣어 준다.\n",
    "with open(vocab_path, 'r', encoding='utf-8') as vocabulary_file:\n",
    "    for line in vocabulary_file:\n",
    "        vocabulary_list.append(line.strip())"
   ]
  },
  {
   "cell_type": "code",
   "execution_count": 52,
   "metadata": {},
   "outputs": [
    {
     "data": {
      "text/plain": [
       "['<PAD>',\n",
       " '<SOS>',\n",
       " '<END>',\n",
       " '<UNK>',\n",
       " '편지보다',\n",
       " '궁금해서',\n",
       " '고민이야',\n",
       " '들었어',\n",
       " '추억으로',\n",
       " '애매하네요']"
      ]
     },
     "execution_count": 52,
     "metadata": {},
     "output_type": "execute_result"
    }
   ],
   "source": [
    "vocabulary_list[:10]"
   ]
  },
  {
   "cell_type": "code",
   "execution_count": 50,
   "metadata": {},
   "outputs": [
    {
     "name": "stdout",
     "output_type": "stream",
     "text": [
      "{'<PAD>': 0, '<SOS>': 1, '<END>': 2, '<UNK>': 3, '편지보다': 4, '궁금해서': 5, '고민이야': 6, '들었어': 7, '추억으로': 8, '애매하네요': 9}\n",
      "{0: '<PAD>', 1: '<SOS>', 2: '<END>', 3: '<UNK>', 4: '편지보다', 5: '궁금해서', 6: '고민이야', 7: '들었어', 8: '추억으로', 9: '애매하네요'}\n"
     ]
    }
   ],
   "source": [
    "# 리스트를 키가 단어이고 값이 인덱스인 딕셔너리를 만든다.\n",
    "char2idx = {char: idx for idx, char in enumerate(vocabulary_list)}\n",
    "\n",
    "# 리스트를 키가 인덱스이고 값이 단어인 딕셔너리를 만든다.\n",
    "idx2char = {idx: char for idx, char in enumerate(vocabulary_list)}\n",
    "\n",
    "print(dict(list(char2idx.items())[:10]))\n",
    "print(dict(list(idx2char.items())[:10]))"
   ]
  },
  {
   "cell_type": "code",
   "execution_count": 63,
   "metadata": {},
   "outputs": [],
   "source": [
    "train_input, train_label, test_input, test_label = load_data()"
   ]
  },
  {
   "cell_type": "code",
   "execution_count": 64,
   "metadata": {},
   "outputs": [
    {
     "name": "stdout",
     "output_type": "stream",
     "text": [
      "['짝사랑 했던 여자가 떠나갔네.', '대리 불렀는데 안 오네', '내가 싫은 건 너도 싫어해줘서 고마워', '썸은 왜 타?', '짝녀 프사 자음이 궁금함.', '기다림이 습관이 됐나봐', '라면 먹고 싶어', '좋은 사람 있으면 소개시켜줘', '엄마가 내 방에 막 들어와', '애완동물 키우고 싶어']\n",
      "['여기까지 인연이었나봅니다.', '잘했어요.', '싫은 게 통해야 편하죠.', '사귀기 전에 마음을 확인하는 단계라서 그렇지 않을까요?', '궁금할 수 있어요.', '좋은 분이시군요', '맛나게 끓여드세요.', '주변 사람들에게 부탁해보세요.', '엄마께 프라이버시를 지켜달라고 말해보세요.', '가족들과 상의해보세요.']\n",
      "['죽을거 같네', '내일 시험이야', '정말.내 자신이 싫다', '이별후 네달째', '쌍커풀 해볼까', '내 생각 하나만 바꾸면 편할텐데.', '어떻게 살아가야 할까', '발 아파', '썸 타는 것도 귀찮아.', '좋아하는 애랑 전화하면']\n",
      "['나쁜 생각 하지 마세요.', '컨디션 조절 하세요.', '자신은 사랑해주세요.', '바쁘게 살면서 잊어가요.', '눈은 기본이죠.', '하나 바꾸는 게 힘들지요.', '태연하게 시작해보세요.', '맥주병 같은 걸로 살살 문질러 주세요', '그냥 사귀세요.', '즐거울 거예요.']\n"
     ]
    }
   ],
   "source": [
    "print(train_input[:10])\n",
    "print(train_label[:10])\n",
    "print(test_input[:10])\n",
    "print(test_label[:10])"
   ]
  },
  {
   "cell_type": "code",
   "execution_count": null,
   "metadata": {},
   "outputs": [],
   "source": [
    "# 인덱스 값들을 가지고 있는 배열이다.(누적된다.)\n",
    "sequences_input_index = []\n",
    "# 하나의 인코딩 되는 문장의 길이를 가지고 있다.(누적된다.)\n",
    "sequences_length = []\n",
    "\n",
    "\n",
    "# 한줄씩 불어온다.\n",
    "for sequence in train_input:\n",
    "    # FILTERS = \"([~.,!?\\\"':;)(])\"\n",
    "    # 정규화를 사용하여 필터에 들어 있는 값들을 \"\" 으로 치환 한다.\n",
    "    sequence = re.sub(CHANGE_FILTER, \"\", sequence)\n",
    "\n",
    "    # 하나의 문장을 인코딩 할때 가지고 있기 위한 배열이다.\n",
    "    sequence_index = []\n",
    "\n",
    "    # 문장을 스페이스 단위로 자르고 있다.\n",
    "    for word in sequence.split():\n",
    "        # 잘려진 단어들이 딕셔너리에 존재 하는지 보고 그 값을 가져와 sequence_index에 추가한다.\n",
    "        if dictionary.get(word) is not None:\n",
    "            sequence_index.extend([dictionary[word]])\n",
    "\n",
    "        # 잘려진 단어가 딕셔너리에 존재 하지 않는 경우 이므로 UNK(2)를 넣어 준다.\n",
    "        else:\n",
    "            sequence_index.extend([dictionary[UNK]])\n",
    "\n",
    "    # 문장 제한 길이보다 길어질 경우 뒤에 토큰을 자르고 있다.\n",
    "    if len(sequence_index) > max_sequence_len:\n",
    "        sequence_index = sequence_index[:max_sequence_len]\n",
    "\n",
    "    # 하나의 문장에 길이를 넣어주고 있다.\n",
    "    sequences_length.append(len(sequence_index))\n",
    "\n",
    "    # max_sequence_length보다 문장 길이가 작다면 빈 부분에 PAD(0)를 넣어준다.\n",
    "    sequence_index += (max_sequence_len - len(sequence_index)) * [dictionary[PAD]]\n",
    "\n",
    "    # 인덱스화 되어 있는 값을 sequences_input_index에 넣어 준다.\n",
    "    sequences_input_index.append(sequence_index)\n",
    "\n",
    "# 인덱스화된 일반 배열을 넘파이 배열로 변경한다.\n",
    "# 이유는 텐서플로우 dataset에 넣어 주기 위한 사전 작업이다.\n",
    "# 넘파이 배열에 인덱스화된 배열과 그 길이를 넘겨준다.\n",
    "np.asarray(sequences_input_index), sequences_length"
   ]
  }
 ],
 "metadata": {
  "kernelspec": {
   "display_name": "Python 3",
   "language": "python",
   "name": "python3"
  },
  "language_info": {
   "codemirror_mode": {
    "name": "ipython",
    "version": 3
   },
   "file_extension": ".py",
   "mimetype": "text/x-python",
   "name": "python",
   "nbconvert_exporter": "python",
   "pygments_lexer": "ipython3",
   "version": "3.7.1"
  }
 },
 "nbformat": 4,
 "nbformat_minor": 2
}
