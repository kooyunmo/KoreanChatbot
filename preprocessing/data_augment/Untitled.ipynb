{
 "cells": [
  {
   "cell_type": "code",
   "execution_count": null,
   "metadata": {},
   "outputs": [],
   "source": [
    "from bs4 import BeautifulSoup\n",
    "\n",
    "import numpy as np\n",
    "import pandas as pd\n",
    "import os\n",
    "import re\n",
    "\n",
    "DATA_IN_PATH = './subtitles_html/'\n",
    "DATA_OUT_PATH = './'\n",
    "\n",
    "for file in os.listdir(DATA_IN_PATH):\n",
    "    if 'html' in file:\n",
    "        print(file.ljust(\n",
    "            30) + str(round(os.path.getsize(DATA_IN_PATH + file) / 1000000, 2)) + 'MB')\n",
    "\n",
    "    try:\n",
    "        with open(os.path.join(DATA_IN_PATH, file), 'r') as f:\n",
    "            html_string = f.read()\n",
    "\n",
    "        soup = BeautifulSoup(html_string)\n",
    "\n",
    "        html_string = html_string.replace('<br>', ' ')\n",
    "\n",
    "        conv_string = re.sub(\"\\<.*?\\>|&nbsp;|sub2smi\", \"\", html_string)\n",
    "        conv_string = re.sub(\"[^가-힣ㄱ-ㅎㅏ-ㅣ,.?!\\s]\", \"\", conv_string)\n",
    "\n",
    "        conv_string = conv_string.split(sep='\\n')\n",
    "\n",
    "        str_list = list(filter(None, conv_string))\n",
    "\n",
    "        with open(os.path.join(DATA_OUT_PATH, file), 'w+') as f:\n",
    "            for item in str_list:\n",
    "                f.write(\"%s\\n\" % item)\n",
    "\n",
    "    except UnicodeDecodeError:\n",
    "        print(\"This file is not 'utf-8' format. Skip this file.\")\n",
    "        pass\n",
    "\n",
    "    except IsADirectoryError:\n",
    "        pass\n",
    "\n",
    "    except PermissionError:\n",
    "       pass\n"
   ]
  }
 ],
 "metadata": {
  "kernelspec": {
   "display_name": "Python 3",
   "language": "python",
   "name": "python3"
  },
  "language_info": {
   "codemirror_mode": {
    "name": "ipython",
    "version": 3
   },
   "file_extension": ".py",
   "mimetype": "text/x-python",
   "name": "python",
   "nbconvert_exporter": "python",
   "pygments_lexer": "ipython3",
   "version": "3.7.1"
  }
 },
 "nbformat": 4,
 "nbformat_minor": 2
}
